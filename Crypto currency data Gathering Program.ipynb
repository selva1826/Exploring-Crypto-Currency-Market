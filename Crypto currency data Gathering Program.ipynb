{
 "cells": [
  {
   "cell_type": "code",
   "execution_count": 2,
   "id": "5b32c16e-4944-489e-a434-71fda28abafc",
   "metadata": {},
   "outputs": [],
   "source": [
    "import pandas as pd\n",
    "import yfinance as yf"
   ]
  },
  {
   "cell_type": "code",
   "execution_count": 14,
   "id": "8a7ba181-99b9-4065-9781-bd4b5632ffc8",
   "metadata": {},
   "outputs": [
    {
     "name": "stdout",
     "output_type": "stream",
     "text": [
      "Fetching data for USDC...\n"
     ]
    },
    {
     "name": "stderr",
     "output_type": "stream",
     "text": [
      "[*********************100%***********************]  1 of 1 completed"
     ]
    },
    {
     "name": "stdout",
     "output_type": "stream",
     "text": [
      "Data for USDC fetched successfully.\n",
      "Data for USDC saved to E:\\bit coin project\\real data set\\financial_data_USDC_20240921.csv.\n"
     ]
    },
    {
     "name": "stderr",
     "output_type": "stream",
     "text": [
      "\n"
     ]
    }
   ],
   "source": [
    "import yfinance as yf\n",
    "import pandas as pd\n",
    "from datetime import datetime\n",
    "import os\n",
    "\n",
    "def fetch_financial_data(tickers, start_date, end_date):\n",
    "    data = {}\n",
    "    for ticker in tickers:\n",
    "        print(f\"Fetching data for {ticker}...\")\n",
    "        try:\n",
    "            ticker_data = yf.download(ticker, start=start_date, end=end_date)\n",
    "            if not ticker_data.empty:\n",
    "                data[ticker] = ticker_data\n",
    "                print(f\"Data for {ticker} fetched successfully.\")\n",
    "            else:\n",
    "                print(f\"No data found for {ticker}.\")\n",
    "        except Exception as e:\n",
    "            print(f\"An error occurred while fetching data for {ticker}: {e}\")\n",
    "    return data\n",
    "\n",
    "def save_data_to_csv(data, directory, filename_prefix=\"financial_data\"):\n",
    "    \"\"\"\n",
    "    Saves the fetched financial data to CSV files in the specified directory.\n",
    "\n",
    "    :param data: Dictionary of DataFrames keyed by ticker symbols.\n",
    "    :param directory: Path to the directory where CSV files will be saved.\n",
    "    :param filename_prefix: Prefix for the CSV filenames.\n",
    "    \"\"\"\n",
    "    # Create directory if it doesn't exist\n",
    "    if not os.path.exists(directory):\n",
    "        os.makedirs(directory)\n",
    "        print(f\"Directory '{directory}' created.\")\n",
    "\n",
    "    # Save each DataFrame to a separate CSV file\n",
    "    for ticker, df in data.items():\n",
    "        # Generate a filename with prefix and ticker symbol\n",
    "        filename = f\"{filename_prefix}_{ticker}_{datetime.now().strftime('%Y%m%d')}.csv\"\n",
    "        filepath = os.path.join(directory, filename)\n",
    "        try:\n",
    "            df.to_csv(filepath)\n",
    "            print(f\"Data for {ticker} saved to {filepath}.\")\n",
    "        except Exception as e:\n",
    "            print(f\"Failed to save data for {ticker} to {filepath}: {e}\")\n",
    "\n",
    "def main():\n",
    "    # Example parameters\n",
    "    tickers = [\"USDC\"]  # Replace with your desired tickers\n",
    "    start_date = \"2018-10-30\"\n",
    "    end_date = \"2024-09-21\"\n",
    "    save_directory = r'E:\\bit coin project\\real data set'  # Replace with your desired directory path\n",
    "\n",
    "    # Fetch data\n",
    "    financial_data = fetch_financial_data(tickers, start_date, end_date)\n",
    "\n",
    "    if financial_data:\n",
    "        # Save data to CSV\n",
    "        save_data_to_csv(financial_data, save_directory)\n",
    "    else:\n",
    "        print(\"No financial data fetched. Exiting.\")\n",
    "\n",
    "if __name__ == \"__main__\":\n",
    "    main()\n"
   ]
  },
  {
   "cell_type": "code",
   "execution_count": null,
   "id": "d98eadfe-0563-47e8-b4e8-420ed4a41aac",
   "metadata": {},
   "outputs": [],
   "source": []
  }
 ],
 "metadata": {
  "kernelspec": {
   "display_name": "Python 3 (ipykernel)",
   "language": "python",
   "name": "python3"
  },
  "language_info": {
   "codemirror_mode": {
    "name": "ipython",
    "version": 3
   },
   "file_extension": ".py",
   "mimetype": "text/x-python",
   "name": "python",
   "nbconvert_exporter": "python",
   "pygments_lexer": "ipython3",
   "version": "3.12.4"
  }
 },
 "nbformat": 4,
 "nbformat_minor": 5
}
